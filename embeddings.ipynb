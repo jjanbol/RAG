{
 "cells": [
  {
   "cell_type": "code",
   "execution_count": 2,
   "id": "af91ea85",
   "metadata": {},
   "outputs": [],
   "source": [
    "import pandas as pd\n",
    "df = pd.read_csv(\"/Users/janbol/Documents/GitHub/RAG/data/test.csv\")\n",
    "df= df[df[\"Result\"].notna()]\n",
    "data = df.to_dict(\"records\")"
   ]
  },
  {
   "cell_type": "code",
   "execution_count": 3,
   "id": "bfeb5785",
   "metadata": {},
   "outputs": [
    {
     "data": {
      "text/plain": [
       "653"
      ]
     },
     "execution_count": 3,
     "metadata": {},
     "output_type": "execute_result"
    }
   ],
   "source": [
    "len(data)"
   ]
  },
  {
   "cell_type": "code",
   "execution_count": 12,
   "id": "27d0aa1d",
   "metadata": {},
   "outputs": [
    {
     "data": {
      "text/plain": [
       "[{'Summary': 'on august 27 2013 employees #1 and #2 of templar inc. a construction company specializing in fiber optic installation and services were working along a highway. the highway speed limit was posted at 55 miles per hour. employee #1 was marking the location of an underground line that ran below the turn lane. employee #2 was next to employee #1 and performing the duties of a flagger. a privately owned vehicle was travelling in the travel/through lane. the vehicle veered to the right entered the turn lane and struck both workers. emergency medical services were called. employee #1 was declared dead at the scene. employee #2 refused emergency medical treatment for the bruises he received when struck.',\n",
       "  'Result': 1},\n",
       " {'Summary': 'at approximately 6:30 a.m. on may 13 2013 employee #1 a foreman regularly employed by integrity rebar placers was operating a rough terrain forklift at a contracted job site in murrieta ca. he was using the forklift to move bundles of steel. employee #1 was positioning the forklift to pick up another load when the forklift tipped back and over. employee #1 exited the cab of the forklift as the machine tipped over. the forklift fell on top of employee #1 pinning him under the lower section of the boom and crushing his abdomen. he was killed. the employer notified cal/osha of this fatality at approximately 8:35 a.m. on may 13 2013. the subsequent investigation determined that employee #1 had been employed by the company for approximately 2.5 months.',\n",
       "  'Result': 1},\n",
       " {'Summary': 'on april 9 2013 employee #1 was installing vinyl sidings on a single story residence. the employee was standing an a-frame ladder that was set on a plank of a scaffold. the scaffold moved causing employee #1 to lose his balance. the employee fell from the ladder approximately 12-ft to the ground. employee #1 was transported to an area hospital where he was treated for an abdominal fracture. the employee remained hospitalized.',\n",
       "  'Result': 1},\n",
       " {'Summary': \"on november 27 2012 employee #1 was operating an asphalt-pulverizing machine. the employee's work clothing zipper was caught in the asphalt-pulverizing machine pulling his body into the squeeze point action of the machine. employee #1 was amputated from the abdominal point of his body. the employee was pronounced dead at the scene.\",\n",
       "  'Result': 1}]"
      ]
     },
     "execution_count": 12,
     "metadata": {},
     "output_type": "execute_result"
    }
   ],
   "source": [
    "data[:4]"
   ]
  },
  {
   "cell_type": "code",
   "execution_count": 113,
   "id": "af8bce2c-e123-498a-a5f2-cefffd17fc74",
   "metadata": {},
   "outputs": [],
   "source": [
    "from qdrant_client import models, QdrantClient\n",
    "from sentence_transformers import SentenceTransformer"
   ]
  },
  {
   "cell_type": "code",
   "execution_count": 114,
   "id": "2b0e4be5-7518-4458-bf47-6913ef9a72a9",
   "metadata": {},
   "outputs": [],
   "source": [
    "encoder = SentenceTransformer('all-MiniLM-L6-v2') # Model to create embeddings"
   ]
  },
  {
   "cell_type": "code",
   "execution_count": 115,
   "id": "5efa031d-b18a-4db1-9c34-9989a15c822b",
   "metadata": {},
   "outputs": [],
   "source": [
    "# create the vector database client\n",
    "qdrant = QdrantClient(\":memory:\") # Create in-memory Qdrant instance"
   ]
  },
  {
   "cell_type": "code",
   "execution_count": 117,
   "id": "6c03be93-a076-425e-8df1-5a8b6367e558",
   "metadata": {},
   "outputs": [
    {
     "name": "stderr",
     "output_type": "stream",
     "text": [
      "/var/folders/c5/p6q0gjzj2ns5lv27n9yp07ph0000gn/T/ipykernel_39385/2185663414.py:2: DeprecationWarning: `recreate_collection` method is deprecated and will be removed in the future. Use `collection_exists` to check collection existence and `create_collection` instead.\n",
      "  qdrant.recreate_collection(\n"
     ]
    },
    {
     "data": {
      "text/plain": [
       "True"
      ]
     },
     "execution_count": 117,
     "metadata": {},
     "output_type": "execute_result"
    }
   ],
   "source": [
    "# Create collection to store wines\n",
    "qdrant.recreate_collection(\n",
    "    collection_name=\"incidents\",\n",
    "    vectors_config=models.VectorParams(\n",
    "        size=encoder.get_sentence_embedding_dimension(), # Vector size is defined by used model\n",
    "        distance=models.Distance.COSINE\n",
    "    )\n",
    ")"
   ]
  },
  {
   "cell_type": "code",
   "execution_count": 122,
   "id": "655d08af-758f-4338-b112-cf94045c7b0d",
   "metadata": {},
   "outputs": [],
   "source": [
    "# vectorize!\n",
    "qdrant.upload_points(\n",
    "    collection_name=\"incidents\",\n",
    "    points=[\n",
    "        models.PointStruct(\n",
    "            id=idx,\n",
    "            vector=encoder.encode(doc[\"Summary\"]).tolist(),\n",
    "            payload=doc,\n",
    "        ) for idx, doc in enumerate(data) # data is the variable holding all the wines\n",
    "    ]\n",
    ")"
   ]
  },
  {
   "cell_type": "code",
   "execution_count": 162,
   "id": "f23bc999",
   "metadata": {},
   "outputs": [],
   "source": [
    "user_prompt = \"incidents involving chainsaw and height\""
   ]
  },
  {
   "cell_type": "code",
   "execution_count": 163,
   "id": "68c9bff5-db38-4a98-b542-cd173af11b53",
   "metadata": {},
   "outputs": [
    {
     "name": "stdout",
     "output_type": "stream",
     "text": [
      "{\n",
      "    \"Summary\": \"employee reaches over chainsaw and suffers a wrist laceratio\",\n",
      "    \"Result\": 1\n",
      "} score: 0.5600474458120919\n",
      "{\n",
      "    \"Summary\": \"on november 14 2013 employee #1 a 33-year-old male journeyman carpenter with torre reich construction was using a skillsaw to cut 1 in. shims from a 2 in. by 4 in. board. as employee #1 went to reposition the saw and start a new cut with the saw blade stopped he reached down with his left hand to pull the bottom guard back so he could place the blade directly against the wood. as employee #1 did this he inadvertently squeezed the trigger with his right hand as he lifted up on the saw. the saw blade started spinning and caused the saw to jump. as the saw jumped the spinning blade struck employee #1's left pinky and amputated the tip.\",\n",
      "    \"Result\": 1\n",
      "} score: 0.5467657978803899\n",
      "{\n",
      "    \"Summary\": \"at approximately 12:57 p.m. on october 15 2012 employee #1 a foreman/carpenter was installing window trim on residential condominiums. he set a ladder to the edge of gutters that were approximately 20 ft above grade. he extended the ladder approximately 3 ft above the gutters to access a narrow roof area below the windows to be trimmed. according employee #1 he was making his first trip up the ladder using both hands to install a screw eye as an anchor point to tie off the ladder. when employee #1 was approximately 14 ft above grade the ladder became unstable and fell. a coworker saw employee #1 hanging onto the gutter momentarily and then falling to an asphalt surface. he was hospitalized at stanford hospital for a fractured ankle a fractured wrist and other injuries. document review and employee statements indicate that this was routine employer policy prior to the incident. employee #1 did not recall what may have caused the ladder to fall. the employer's work practices for safe ladder use including tie-off were in place during the inspection of the job site. employee #1 stated that the intended location for his anchor point did not require him to lean to either side of the ladder. employee #1 indicated he had inspected the ladder prior to use and that it was not damaged and was placed on a level surface. the superintendent on duty stated that the ladder was inspected after the fall and there was no observable damage.\",\n",
      "    \"Result\": 1\n",
      "} score: 0.5447997708989468\n"
     ]
    }
   ],
   "source": [
    "import json\n",
    "hits = qdrant.search(\n",
    "    collection_name=\"incidents\",\n",
    "    query_vector=encoder.encode(user_prompt).tolist(),\n",
    "    limit=3\n",
    ") \n",
    "for hit in hits:\n",
    "  print(json.dumps(hit.payload, indent=4), \"score:\", hit.score)"
   ]
  },
  {
   "cell_type": "code",
   "execution_count": 164,
   "id": "33243e5d-9e0d-4ec4-98e9-3fc56b8bdb10",
   "metadata": {},
   "outputs": [],
   "source": [
    "# define a variable to hold the search results\n",
    "search_results = [hit.payload for hit in hits]"
   ]
  },
  {
   "cell_type": "code",
   "execution_count": 166,
   "id": "e6c2b91e",
   "metadata": {},
   "outputs": [
    {
     "name": "stdout",
     "output_type": "stream",
     "text": [
      "**Construction Safety Recommendations**\n",
      "\n",
      "Based on the incident reports provided, I've identified common safety hazards and recommended measures to prevent similar incidents:\n",
      "\n",
      "**1. Personal Protective Equipment (PPE)**\n",
      "\n",
      "* Ensure all employees wear required PPE, including hard hats, safety glasses, ear protection, and steel-toed boots.\n",
      "* Regularly inspect PPE for damage or wear and tear.\n",
      "\n",
      "**2. Ladder Safety**\n",
      "\n",
      "* Ensure ladders are properly inspected and maintained before use.\n",
      "* Use ladder safety devices, such as ladder levelers or stabilizers, when working at heights.\n",
      "* Establish a \"three-point rule\" for ladder use: one hand and two feet, or two hands and one foot, or two feet and one hand.\n",
      "\n",
      "**3. Chainsaw Safety**\n",
      "\n",
      "* Always maintain a safe distance from the chainsaw's kickback zone.\n",
      "* Keep loose clothing and long hair tied back when operating a chainsaw.\n",
      "* Never reach over or under the chainsaw while it's in operation.\n",
      "\n",
      "**4. Fall Protection**\n",
      "\n",
      "* Ensure all employees are properly trained on fall protection procedures.\n",
      "* Use fall protection equipment, such as harnesses and lanyards, when working at heights.\n",
      "* Establish a \"fall zone\" around the work area to catch employees in case of a fall.\n",
      "\n",
      "**5. Tool Handling**\n",
      "\n",
      "* Always handle tools with both hands, especially when operating power tools.\n",
      "* Keep tools and equipment well-maintained and free from damage.\n",
      "\n",
      "**6. Workspace Organization**\n",
      "\n",
      "* Ensure the work area is organized and clutter-free to prevent tripping hazards.\n",
      "* Label and sign hazardous materials and equipment.\n",
      "\n",
      "**7. Regular Training and Inspections**\n",
      "\n",
      "* Provide regular training on safety procedures and protocols.\n",
      "* Conduct regular inspections of the work site to identify potential hazards and address them promptly.\n",
      "\n",
      "**8. Employee Awareness**\n",
      "\n",
      "* Educate employees on the importance of safety and the consequences of non-compliance.\n",
      "* Encourage employees to report hazards and near-misses.\n",
      "\n",
      "**9. Incident Reporting**\n",
      "\n",
      "* Establish a clear incident reporting process to ensure all incidents are documented and investigated.\n",
      "* Review incident reports to identify patterns and areas for improvement.\n",
      "\n",
      "**10. Safety Culture**\n",
      "\n",
      "* Foster a safety-first culture within the organization.\n",
      "* Recognize and reward employees for their safety contributions.\n",
      "\n",
      "By implementing these recommendations, we can reduce the risk of incidents and create a safer work environment for all employees.<|eot_id|>\n"
     ]
    }
   ],
   "source": [
    "# Now time to connect to the local large language model\n",
    "from openai import OpenAI\n",
    "client = OpenAI(\n",
    "    base_url=\"http://127.0.0.1:8080/v1\", # \"http://<Your api-server IP>:port\"\n",
    "    api_key = \"sk-no-key-required\"\n",
    ")\n",
    "completion = client.chat.completions.create(\n",
    "    model=\"LLaMA_CPP\",\n",
    "    messages=[\n",
    "        {\"role\": \"system\", \"content\": \"You are a bot, an construction safety engineer. Your top priority is to help guide fellow engineers to follow safety protocols to reduce incidents at workplace based on the some incident reports\"},\n",
    "        {\"role\": \"user\", \"content\": \"create me recommendations to work safely\"},\n",
    "        {\"role\": \"assistant\", \"content\": str(search_results)}\n",
    "    ]\n",
    ")\n",
    "output = completion.choices[0].message.to_dict()\n",
    "print(output[\"content\"])\n"
   ]
  },
  {
   "cell_type": "code",
   "execution_count": null,
   "id": "d4aaca2c",
   "metadata": {},
   "outputs": [],
   "source": []
  },
  {
   "cell_type": "code",
   "execution_count": null,
   "id": "994f7bc9",
   "metadata": {},
   "outputs": [],
   "source": []
  }
 ],
 "metadata": {
  "kernelspec": {
   "display_name": "llm",
   "language": "python",
   "name": "python3"
  },
  "language_info": {
   "codemirror_mode": {
    "name": "ipython",
    "version": 3
   },
   "file_extension": ".py",
   "mimetype": "text/x-python",
   "name": "python",
   "nbconvert_exporter": "python",
   "pygments_lexer": "ipython3",
   "version": "3.11.11"
  }
 },
 "nbformat": 4,
 "nbformat_minor": 5
}
